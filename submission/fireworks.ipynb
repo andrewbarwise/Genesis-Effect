{
 "cells": [
  {
   "cell_type": "markdown",
   "metadata": {},
   "source": [
    "# Fireworks Simulation\n",
    "This is a firework simulation using the particle system proposed by William Reeves in his 1983 \n",
    "paper \"[Particle systems - a technique for modeling a class of fuzzy objects](https://onesearch.library.uwa.edu.au/discovery/fulldisplay?docid=crossref10.1145/964967.801167&context=PC&vid=61UWA_INST:UWA&search_scope=MyInst_and_CI&tab=Everything&lang=en \"UWA OneSearch\")\". This paper proposes a particle system for simulating the Genesis effect in the film *Star Trek 2: The Wrath of Khan*. Firework simulation is listed as an alternative use for the particle system in the paper, a usage we have attempted to replicate in this notebook.\n",
    "\n",
    "We have implemented the particle system described by Reeves in an attempt to replicate his results. This particle system includes the following:\n",
    "- A number of particle attributes\n",
    "  - position, velocity and acceleration\n",
    "  - initial and final color, with interpolation\n",
    "  - lifespan\n",
    "- A heirachical system, in which particle systems spawn particles which are themselves particle systems\n",
    "\n",
    "All reference material came from the original paper."
   ]
  },
  {
   "cell_type": "markdown",
   "metadata": {},
   "source": [
    "##### Library Use and Imports\n",
    "We have used the python graphics library and OpenGL interface [Pyglet](https://pyglet.readthedocs.io/en/pyglet-1.3-maintenance/index.html# \"Pyglet Homepage\") for all of our drawing and rendering requirements.\n",
    "\n",
    "Pyglet can be installed with Anaconda or Pip with either:\n",
    "\n",
    "```$> conda install pyglet```\n",
    "\n",
    "or\n",
    "\n",
    "```$> pip install pyglet```"
   ]
  },
  {
   "cell_type": "code",
   "execution_count": 1,
   "metadata": {},
   "outputs": [],
   "source": [
    "# import libraries\n",
    "import math, random\n",
    "\n",
    "# graphics library\n",
    "import pyglet\n",
    "from pyglet.gl import *"
   ]
  },
  {
   "cell_type": "markdown",
   "metadata": {},
   "source": [
    "### Class Definitions\n",
    "We have defined two classes for this particle system. `Particle` which represents a bottom level, rendered point on the screen, and `Particle System` which is responsible for spawning `Particle` instances.\n",
    "\n",
    "\n",
    "##### Constants\n",
    "These constants are defined and used throughout the classes as either constant values or default parameters"
   ]
  },
  {
   "cell_type": "code",
   "execution_count": 2,
   "metadata": {},
   "outputs": [],
   "source": [
    "# constant/default values\n",
    "#acceleration due to gravity\n",
    "GRAVITY = -100\n",
    "# mean and variance of explosion velocity\n",
    "EXPL_VEL_M, EXPL_VEL_V = 40, 40\n",
    "# Explosion shape modifier. 1 = tall/narrow explosion, 0 = short/broad explosion\n",
    "EXPL_SHAPE = 0.5\n",
    "# The minimum and maximum ejection angles at which to spawn particles (radians)\n",
    "EXPL_R_MIN, EXPL_R_MAX = 0, 2*math.pi\n",
    "\n",
    "# Number of particles to spawn at once (particles in each firework)\n",
    "NUM_CHILDREN = 300"
   ]
  },
  {
   "cell_type": "markdown",
   "metadata": {},
   "source": [
    "##### Particle System Class\n",
    "Contains a constructor `__init__`, and two methods: `update` and `spawn`, which update the system and spawn children into it."
   ]
  },
  {
   "cell_type": "code",
   "execution_count": 3,
   "metadata": {},
   "outputs": [],
   "source": [
    "# Definition of particle system class\n",
    "# Parameters:\n",
    "#    position - [x,y,z]\n",
    "#    startColor - [r,g,b,a]\n",
    "#    startColor - [r,g,b,a]\n",
    "#    particles - the number of particles to spwan in explosion\n",
    "#    lifespan  - the age in seconds at which the particle system will die\n",
    "#    explosionPower - explosion particle initial velocity in pixels/update (framerate dependant)\n",
    "#    explosionPowerVariance - variance of explosionPower\n",
    "#    explosionShape - shape modifier for the explosion. Range [0-1], 1 = tall/narrow explosion, 0 = short/broad explosion\n",
    "#    explosionAngleMin - minimum particle ejection angle in radians. Angle=0 is along -ve x-axis\n",
    "#    explosionAngleMin - maximum particle ejection angle in radians. Angle=0 is along -ve x-axis\n",
    "class ParticleSystem:\n",
    "    def __init__(\n",
    "        self, position, startColor, endColor,\n",
    "        particles=NUM_CHILDREN, lifespan=3,\n",
    "        explosionPower = EXPL_VEL_M, explosionPowerVariance = EXPL_VEL_V, explosionShape = EXPL_SHAPE,\n",
    "        explosionAngleMin = EXPL_R_MIN, explosionAngleMax = EXPL_R_MAX\n",
    "    ):\n",
    "        # position and color properties\n",
    "        self.pos = list(position)\n",
    "        self.col = list(startColor)\n",
    "        self.colS, self.colF = list(startColor), list(endColor)\n",
    "        # spawning and children properties\n",
    "        self.parts = particles\n",
    "        self.children = []\n",
    "        self.canSpawn = True\n",
    "        # life or death properties\n",
    "        self.age = 0\n",
    "        self.lifespan = lifespan\n",
    "        self.alive = True\n",
    "        # explosion properties (boom!)\n",
    "        self.exP, self.exPV = explosionPower, explosionPowerVariance\n",
    "        self.exS = explosionShape\n",
    "        self.exAMin, self.exAMax = explosionAngleMin, explosionAngleMax\n",
    "\n",
    "    # updates the particle systems internal properties\n",
    "    # parameter 'dt' is the (simulated) duration in seconds since last update\n",
    "    def update(self, dt):\n",
    "        # update age\n",
    "        self.age += dt\n",
    "        # update children\n",
    "        for index, child in reversed(list(enumerate(self.children))):\n",
    "            child.update(dt)\n",
    "            if not child.alive:\n",
    "                del self.children[index]\n",
    "        # spawn children\n",
    "        if self.canSpawn: self.spawn()\n",
    "        # update color\n",
    "        self.col = colorInterp(self.colS, self.colF, self.age, self.lifespan)\n",
    "        # kill if too old\n",
    "        self.alive = self.age < self.lifespan\n",
    "\n",
    "    # spawns particles into the simulation\n",
    "    def spawn(self):\n",
    "        # spawn multiple children at once\n",
    "        for ii in range(self.parts):\n",
    "            power = self.exP+random.uniform(-self.exPV, self.exPV)\n",
    "            rad   = random.uniform(self.exAMin, self.exAMax)\n",
    "            shapeX, shapeY = 2*(1-self.exS), 2*self.exS\n",
    "            # append new particle to particle system\n",
    "            self.children.append( Particle(self.pos.copy(),\n",
    "                                   [(power * shapeX)*math.cos(rad),(power * shapeY)*math.sin(rad), 0],\n",
    "                                   [0, GRAVITY, 0],\n",
    "                                   self.col.copy(), \n",
    "                                    self.colF) )\n",
    "        \n",
    "        #spawning disables further spawning (redundant here, but necessary for system generality)\n",
    "        self.canSpawn = False \n",
    "        "
   ]
  },
  {
   "cell_type": "markdown",
   "metadata": {},
   "source": [
    "##### Particle\n",
    "This class has only a constructor and an update function. Particles are completely contained within their parent particle system, and all rendering code is located in the main simulation loop."
   ]
  },
  {
   "cell_type": "code",
   "execution_count": 4,
   "metadata": {},
   "outputs": [],
   "source": [
    "class Particle:\n",
    "    def __init__(self, position, velocity, acceleration, startColor, endColor, lifespan = 1.5):\n",
    "        # particle positional properties\n",
    "        self.pos = position\n",
    "        self.vel = velocity\n",
    "        self.acc = acceleration\n",
    "        # particle positional properties\n",
    "        self.col = startColor\n",
    "        self.colS, self.colF = startColor, endColor\n",
    "        # life or death properties\n",
    "        self.age = 0\n",
    "        self.lifespan = lifespan\n",
    "        self.alive = True\n",
    "\n",
    "    def update(self, dt):\n",
    "        self.age += dt\n",
    "        # update velocities\n",
    "        self.vel[0] += self.acc[0] * dt\n",
    "        self.vel[1] += self.acc[1] * dt\n",
    "        self.vel[2] += self.acc[2] * dt\n",
    "        # update velocities\n",
    "        self.pos[0] += self.vel[0] * dt\n",
    "        self.pos[1] += self.vel[1] * dt\n",
    "        self.pos[2] += self.vel[2] * dt\n",
    "        # update color\n",
    "        self.col = colorInterp(self.colS, self.colF, self.age, self.lifespan)\n",
    "        # kill if too old\n",
    "        self.alive = self.age < self.lifespan"
   ]
  },
  {
   "cell_type": "markdown",
   "metadata": {},
   "source": [
    "### Helper functions\n",
    "Helper functions were created and defined in order to simplify the code for updating particles and their systems."
   ]
  },
  {
   "cell_type": "code",
   "execution_count": 5,
   "metadata": {},
   "outputs": [],
   "source": [
    "# COLOR INTERPOLATION\n",
    "#   interpolated between the intial and final colors (RGBA)\n",
    "#   age is the current age of the particle\n",
    "#   particle lifespan as the dying age of the particle\n",
    "def colorInterp(initial, final, age, particleLifespan = 1):\n",
    "    frac = age/particleLifespan\n",
    "    newR = initial[0] + frac*(final[0]-initial[0])\n",
    "    newG = initial[1] + frac*(final[1]-initial[1])\n",
    "    newB = initial[2] + frac*(final[2]-initial[2])\n",
    "    newA = initial[3] + frac*(final[3]-initial[3])\n",
    "    return [newR, newG, newB, newA]"
   ]
  },
  {
   "cell_type": "markdown",
   "metadata": {},
   "source": [
    "### Simulation Code\n",
    "The following code defines and implements the main simulation.\n",
    "\n",
    "##### Definition of contants and window/OpenGL initialisation"
   ]
  },
  {
   "cell_type": "code",
   "execution_count": 6,
   "metadata": {},
   "outputs": [],
   "source": [
    "# define window constants\n",
    "WIDTH, HEIGHT, WINDOW_FS = 800, 600, False\n",
    "\n",
    "# initialise window\n",
    "if WINDOW_FS:\n",
    "    win = pyglet.window.Window(fullscreen=True)\n",
    "    WIDTH, HEIGHT = 1920, 1080\n",
    "else:\n",
    "    win = pyglet.window.Window(WIDTH, HEIGHT)\n",
    "\n",
    "# configure OpenGL to enable transparency\n",
    "glEnable(GL_BLEND)\n",
    "glBlendFunc(GL_SRC_ALPHA, GL_ONE_MINUS_SRC_ALPHA)"
   ]
  },
  {
   "cell_type": "code",
   "execution_count": 7,
   "metadata": {},
   "outputs": [],
   "source": [
    "# define constants and global variables for simulation\n",
    "TARGET_FPS = 24\n",
    "DELTA_T = 1/TARGET_FPS #timestep between frames\n",
    "\n",
    "systems = [] #collection of all particle subsystems\n",
    "frameNum = 0 #frame counter"
   ]
  },
  {
   "cell_type": "markdown",
   "metadata": {},
   "source": [
    "##### Main Loop\n",
    "The main simulation is run in a single loop structure. This function is called automatically by a callback function, and is set to simulate a given global timestep, `DELTA_T`. This function is responsible for updating particle systems and their particles. All drawing code is contained within this loop, and contributes significantly to the performance of the program."
   ]
  },
  {
   "cell_type": "code",
   "execution_count": 8,
   "metadata": {},
   "outputs": [],
   "source": [
    "# The main (callback) function for drawing and updating the simulation.\n",
    "# Called once every frame, and simulates a time interval of DELTA_T.\n",
    "# Paramter 'dt' contains the actual time elapsed since the last function call\n",
    "def mainLoop(dt):\n",
    "    global systems, frameNum\n",
    "    # update particle system\n",
    "    particles = []\n",
    "    for index, sys in reversed(list(enumerate(systems))):\n",
    "        sys.update(DELTA_T) #updates the particle system, which triggers an update of its children\n",
    "        if sys.alive:\n",
    "            # add particles to list\n",
    "            particles += sys.children \n",
    "        else:\n",
    "            # delete particle system\n",
    "            del systems[index]\n",
    "\n",
    "    # draw particles\n",
    "    win.clear() #clears the window\n",
    "\n",
    "    glBegin(GL_POINTS)\n",
    "    for pp in particles:\n",
    "        glColor4f(pp.col[0], pp.col[1], pp.col[2], pp.col[3]) # define point color\n",
    "        glVertex3f(pp.pos[0], pp.pos[1], pp.pos[2]) # draws point at location\n",
    "    glEnd()\n",
    "\n",
    "    frameNum += 1\n",
    "    # status logging - repeatedly prints to terminal. NOT SUITABLE FOR PYTHON NOTEBOOOK\n",
    "    # print( \"Frame %3d: %6d particles, %3d systems, %4d ms (%2d FPS)\" % (frameNum, len(particles), len(systems), dt, 1/dt) )"
   ]
  },
  {
   "cell_type": "markdown",
   "metadata": {},
   "source": [
    "##### Top Level Particle System\n",
    "This function acts as the top level particle system, and spawns particle systems into the simulation. It has been set as a callback function in order to periodically repeat the simulation, however other more complex behaviour can be acieved by customising this function and its calling method."
   ]
  },
  {
   "cell_type": "code",
   "execution_count": 9,
   "metadata": {},
   "outputs": [],
   "source": [
    "# Callback function for spawning particles\n",
    "# parameter dt is automatically given the value of the elapsed time intervall by the calling function\n",
    "def spawn(dt):\n",
    "    # new system -> ParticleSystem([xpos   , ypos      , z], [intial RGBA color ], [final RGBA color  ])\n",
    "    systems.append( ParticleSystem([WIDTH/2, 3*HEIGHT/4, 0], [1.0, 0.1, 0.0, 0.9], [1.0, 0.6, 0.1, 0.3]) )"
   ]
  },
  {
   "cell_type": "markdown",
   "metadata": {},
   "source": [
    "### Running the Simulation\n",
    "The following code sets timers for the main simulation loop and the particle system spawning function.\n",
    "The app is then launched in a separate window.\n",
    "\n",
    "Once the simulation window has been closed and the simulation stopped, **the kernel may need to be restarted** before the simulation can run again."
   ]
  },
  {
   "cell_type": "code",
   "execution_count": 10,
   "metadata": {},
   "outputs": [],
   "source": [
    "# sets clock for callbacks\n",
    "pyglet.clock.schedule_interval(mainLoop, DELTA_T)\n",
    "pyglet.clock.schedule_interval(spawn, 2)\n",
    "\n",
    "# launches simultation\n",
    "pyglet.app.run()"
   ]
  },
  {
   "cell_type": "markdown",
   "metadata": {},
   "source": [
    "### Improvements\n",
    "There are many improvements that can be made to the code. Here are some of them:\n",
    "1. Graphic fidelity. Many graphical features such as motion blur, particle light emission and particle size are missing in the current simulation.\n",
    "1. The initial velocities and accelerations of the particles are framerate dependant. Altering the target framerate will change the overall motion of the simulation."
   ]
  }
 ],
 "metadata": {
  "kernelspec": {
   "display_name": "Python 3",
   "language": "python",
   "name": "python3"
  },
  "language_info": {
   "codemirror_mode": {
    "name": "ipython",
    "version": 3
   },
   "file_extension": ".py",
   "mimetype": "text/x-python",
   "name": "python",
   "nbconvert_exporter": "python",
   "pygments_lexer": "ipython3",
   "version": "3.7.3"
  }
 },
 "nbformat": 4,
 "nbformat_minor": 2
}
