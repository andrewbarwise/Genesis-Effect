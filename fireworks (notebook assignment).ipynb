{
 "cells": [
  {
   "cell_type": "markdown",
   "metadata": {},
   "source": [
    "# Firework Simulation! Now With Particles!\n",
    "A particle based fireworks simulation inspired by Daniel Shiffman's [tutorial](https://www.youtube.com/watch?v=CKeyIbT3vXI \"The Coding Train (YouTube)\"), using Python 3 and the [Pyglet](https://pyglet.readthedocs.io/en/pyglet-1.3-maintenance/index.html# \"Pyglet Reference\") library (for drawing).\n",
    "\n",
    "Get Pyglet by running `pip install pyglet`"
   ]
  },
  {
   "cell_type": "code",
   "execution_count": 1,
   "metadata": {},
   "outputs": [],
   "source": [
    "# Imports\n",
    "import pyglet, random, math\n",
    "\n",
    "TIME_STEP = 1/60 #physics calculation interval in seconds\n",
    "\n",
    "WINDOW_SIZE = (800, 600)\n",
    "BACKGROUND_COLOR = [0, 0, 15]*2 + [10, 0, 30]*2\n",
    "\n",
    "PARTICLE_RATE   = 2  # Particles spawned per second\n",
    "PARTICLE_RADIUS = 3  # Default radius of particles\n",
    "PARTICLE_SIDES  = 6  # Number of sides on particle polygon\n",
    "\n",
    "FIREWORK_ACC = (0, -450)              # Initial x,y acceleration of fireworks inc. GRAVITY\n",
    "FIREWORK_VEL_LIM = (-75,75,500,700) # Firework velocity limits (xmin, xmax, ymin, ymax)\n",
    "FIREWORK_BOOM_VEL = -50               # Upper y-velocity threshold at which to explode\n",
    "FIREWORK_FADE_DURATION = 45           # Number of updates over which to fade\n",
    "LAUNCH_WIDTH = 0.75                   # Central fraction of window width to launch from\n",
    "\n",
    "EXPL_PART_SIZE = [3, 6, 10]           # Radii of explosion particles (all used in equal proportion)\n",
    "EXPL_PARTICLES = 100                  # Number of particles to spawn on explosion\n",
    "EXPL_PART_ACC  = (0, -150)            # Explosion particle x,y acceleration (lower gravity for aesthetics)\n",
    "EXPL_VELOCITY  = 100                  # Magnitude of resultant particle velocity\n",
    "EXPL_VARIATION = [0.1, 0.66, 1.5]     # Percentage variation from velocity\n",
    "EXPL_VARIATION_WEIGHTS = [2, 8, 10]   # Cumulative weights for variation to occur\n",
    "\n",
    "# Pyglet window initialation\n",
    "window = pyglet.window.Window(WINDOW_SIZE[0], WINDOW_SIZE[1], caption='Fireworks')\n",
    "# OpenGL configuration to handle particle opacity\n",
    "pyglet.gl.glEnable(pyglet.gl.GL_BLEND)\n",
    "pyglet.gl.glBlendFunc(pyglet.gl.GL_SRC_ALPHA, pyglet.gl.GL_ONE_MINUS_SRC_ALPHA)\n",
    "\n",
    "# Initialisation of global particles list\n",
    "particles = []"
   ]
  },
  {
   "cell_type": "markdown",
   "metadata": {},
   "source": [
    "### Colour Handling\n",
    "A few functions to make colour handling slightly easier.  All Colours are use the RGBA (0-255) format, and are stored in a 4 item list."
   ]
  },
  {
   "cell_type": "code",
   "execution_count": 2,
   "metadata": {},
   "outputs": [],
   "source": [
    "#returns a random RGBA colour with 0 alpha (transparent)\n",
    "def randColor():\n",
    "    return [random.randint(0, 255), random.randint(0, 255), random.randint(0, 255), 0]\n",
    "\n",
    "# accepts an RGB/RGBA colour and increases all color channels by a factor of 3, and sets opacity to 100%\n",
    "def brightenColor(col):\n",
    "    return [int(min(col[0]*3,255)), int(min(col[1]*3,255)), int(min(col[2]*3,255)), 255]"
   ]
  },
  {
   "cell_type": "markdown",
   "metadata": {},
   "source": [
    "### Particle Class\n",
    "Particles have individual x,y positions, velocities and accelerations, as well as an RGBA colour and a size in pixels. Additionally, particles may be set to explode (disappear instantly) or with otherwise fade out over time.\n",
    "\n",
    "Position, velocity and acceleration are all input as an x,y tuple, but are internally stored as distinct values.\n",
    "\n",
    "Particles are drawn as a fan of triangles around a central vertex. The outer vertices have the base color, while the central vertex is the base colour brightened."
   ]
  },
  {
   "cell_type": "code",
   "execution_count": 3,
   "metadata": {},
   "outputs": [],
   "source": [
    "class Particle:\n",
    "    def __init__(self, xyPos, xyVel, xyAcc, color, size=PARTICLE_RADIUS, explode=False):\n",
    "        # Initialise position, velocity and acceleration\n",
    "        (self.xPos, self.yPos) = xyPos\n",
    "        (self.xVel, self.yVel) = xyVel\n",
    "        (self.xAcc, self.yAcc) = xyAcc\n",
    "        # Save base color (for spawning children)\n",
    "        self.baseCol = color\n",
    "        # Build list of vertices' color values (4 elements per vertex R, G ,B, A, R, G, ...)\n",
    "        self.col = brightenColor(color) + color * (PARTICLE_SIDES + 1)\n",
    "        # Initialise coordinates of mesh vertices. First items in list are particle x-position and y-position\n",
    "        self.verts = list(xyPos)\n",
    "        for ii in range(PARTICLE_SIDES + 1):\n",
    "            angle = ii * 2 * math.pi / PARTICLE_SIDES\n",
    "            self.verts.append(self.xPos + size * math.cos(angle))\n",
    "            self.verts.append(self.yPos + size * math.sin(angle))\n",
    "        # Initialise other properties\n",
    "        self.explode = explode\n",
    "        self.lifespan = 0\n",
    "    \n",
    "    # Updates attributes of particle as if 'time' seconds have passed\n",
    "    def update(self, time):\n",
    "        # Update particle position\n",
    "        self.xPos += self.xVel*time\n",
    "        self.yPos += self.yVel*time\n",
    "        \n",
    "        # Update vertices' positions\n",
    "        self.verts[0], self.verts[1] = self.xPos, self.yPos\n",
    "        for pos in range(2, 2*(PARTICLE_SIDES+2), 2):\n",
    "            self.verts[pos]   += self.xVel*time\n",
    "            self.verts[pos+1] += self.yVel*time\n",
    "\n",
    "        # Update acceleration \n",
    "        self.xVel = (self.xVel + self.xAcc*time)\n",
    "        self.yVel = (self.yVel + self.yAcc*time)\n",
    "        # Increment age\n",
    "        self.lifespan += 1\n",
    "        # Fade particles by reducing all alpha values (loops through every 4th item in colour array)\n",
    "        if(not self.explode):\n",
    "            alpha = max(0, round(255 * (1 - self.lifespan/FIREWORK_FADE_DURATION)))\n",
    "            for ii in range(3, len(self.col), 4*(PARTICLE_SIDES + 2)): self.col[ii] = alpha\n",
    "\n",
    "    # Draws the particle using a triangle fan.\n",
    "    # Currently a source of inefficiency -> all particles call draw method\n",
    "    def draw(self):\n",
    "        pyglet.graphics.draw(PARTICLE_SIDES+2, pyglet.gl.GL_TRIANGLE_FAN,  ('v2f', self.verts), ('c4B', self.col))"
   ]
  },
  {
   "cell_type": "markdown",
   "metadata": {},
   "source": [
    "### Spawning New Particles\n",
    "Some functions for creating new fireworks and explosion particles."
   ]
  },
  {
   "cell_type": "code",
   "execution_count": 4,
   "metadata": {},
   "outputs": [],
   "source": [
    "# Generates/\"Launches\" a new firework.\n",
    "# 'elapsedTime' is automaticaly set as the duration since the function was last called\n",
    "def newFirework(elapsedTime):\n",
    "    # Don't launch firework if performance is much (20%) lower than target performance\n",
    "    if elapsedTime < 1.2 / PARTICLE_RATE:\n",
    "        global particles\n",
    "        pos = (random.uniform(WINDOW_SIZE[0]*(0.5-LAUNCH_WIDTH/2), WINDOW_SIZE[0]*(0.5 + LAUNCH_WIDTH/2)), 0)\n",
    "        vel = (random.uniform(FIREWORK_VEL_LIM[0], FIREWORK_VEL_LIM[1]), # x-velocity\n",
    "               random.uniform(FIREWORK_VEL_LIM[2], FIREWORK_VEL_LIM[3])) # y-velocity\n",
    "        particles.append(Particle(pos, vel, FIREWORK_ACC, randColor(), explode=True))\n",
    "\n",
    "# Spawns a new explosion particle with position and color inherited from\n",
    "def genExplParticle(parent, size, rVariation):\n",
    "    angle, mag = random.uniform(0, 2*math.pi), EXPL_VELOCITY*random.uniform(1-rVariation, 1+rVariation)\n",
    "    #inherits some velocity from parent (currently only x-velocity for aesthetic reasons)\n",
    "    vel = (mag*math.cos(angle) + parent.xVel, mag*math.sin(angle))\n",
    "    return Particle((parent.xPos, parent.yPos), vel, EXPL_PART_ACC, parent.baseCol, size=size, explode=False)"
   ]
  },
  {
   "cell_type": "markdown",
   "metadata": {},
   "source": [
    "### Main Loop\n",
    "This function is repeatedly called, and is the driver of all particle updates. Function all checks whether or not a firework has exploded/faded, disposes of \"dead\" particles and spawns the explosion particles."
   ]
  },
  {
   "cell_type": "code",
   "execution_count": 5,
   "metadata": {},
   "outputs": [],
   "source": [
    "def updateParticles(elapsedTime):\n",
    "    # Give access to global variable\n",
    "    global particles\n",
    "    # Reset window and draw background plane\n",
    "    window.clear()\n",
    "    pyglet.graphics.draw(4, pyglet.gl.GL_QUADS,  ('v2i', (0, WINDOW_SIZE[1], WINDOW_SIZE[0], WINDOW_SIZE[1], WINDOW_SIZE[0], 0, 0, 0)),('c3B', BACKGROUND_COLOR))\n",
    "    \n",
    "    # Iterate over all particles and update\n",
    "    for ii in range(len(particles)):\n",
    "        particles[ii].update(elapsedTime)\n",
    "        particles[ii].draw()\n",
    "        # Handle exploding/fading particles\n",
    "        if(particles[ii].explode and particles[ii].yVel < FIREWORK_BOOM_VEL):\n",
    "            # Generate explosion particles\n",
    "            shape = random.choices(EXPL_VARIATION, cum_weights=EXPL_VARIATION_WEIGHTS, k=1)[0]\n",
    "            for num in range(EXPL_PARTICLES): particles.append(genExplParticle(particles[ii], random.choice(EXPL_PART_SIZE),shape))\n",
    "            \n",
    "            # Mark parent particle as dead\n",
    "            particles[ii] = None\n",
    "            \n",
    "        elif((not particles[ii].explode) and particles[ii].lifespan > FIREWORK_FADE_DURATION):\n",
    "            # Mark particle as dead\n",
    "            particles[ii] = None\n",
    "            \n",
    "    #removes \"null\" particles from list in a single batch\n",
    "    particles = list(filter(None, particles))"
   ]
  },
  {
   "cell_type": "markdown",
   "metadata": {},
   "source": [
    "### Launch the Fireworks!"
   ]
  },
  {
   "cell_type": "code",
   "execution_count": 6,
   "metadata": {},
   "outputs": [],
   "source": [
    "#scheduling physics calculations and firework 'launches'\n",
    "pyglet.clock.schedule_interval(updateParticles, TIME_STEP)\n",
    "pyglet.clock.schedule_interval(newFirework, 1/PARTICLE_RATE)\n",
    "\n",
    "#run simulation\n",
    "pyglet.app.run()"
   ]
  },
  {
   "cell_type": "markdown",
   "metadata": {},
   "source": [
    "### Improvements\n",
    "##### Performance\n",
    "Currently performance is somewhat tollerable at best. This is largely due to the high cost of generating all the random values required to initialise explosion particles and the general volume of vertex redraws required as particle numbers climb. These issues could be addressed thusly:\n",
    "1. Maintain a global vertices list and draw all particles in a single batch (rather than one by one)\n",
    "1. Creating and drawing pools of predetermined explosion particles/radii/colours rather than generating all random numbers on demand\n",
    "\n",
    "##### Visual Quality\n",
    "There are a multitude of aesthetic features that could be added to the simulation. This includes particle effects (twinkles, colour transitions etc), different explosion shapes, multi-stage charges and most obviously, the third dimension! These would require *significantly* more effort, however only small modifications to the base class would be required, alongside the performance changes listed above."
   ]
  }
 ],
 "metadata": {
  "kernelspec": {
   "display_name": "Python 3",
   "language": "python",
   "name": "python3"
  },
  "language_info": {
   "codemirror_mode": {
    "name": "ipython",
    "version": 3
   },
   "file_extension": ".py",
   "mimetype": "text/x-python",
   "name": "python",
   "nbconvert_exporter": "python",
   "pygments_lexer": "ipython3",
   "version": "3.7.3"
  }
 },
 "nbformat": 4,
 "nbformat_minor": 2
}
